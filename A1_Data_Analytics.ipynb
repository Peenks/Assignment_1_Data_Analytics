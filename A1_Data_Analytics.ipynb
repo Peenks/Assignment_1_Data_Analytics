{
 "cells": [
  {
   "cell_type": "markdown",
   "metadata": {},
   "source": [
    "### **Balanced Risk Set Matching in Observational Studies**\n",
    "---\n",
    "**Authors:**  \n",
    "📌 *Justin Chris Catingub*  \n",
    "📌 *Juliana Marie Ochea*  \n",
    "---\n",
    "    \n",
    "## **Data Analytics Assignment**\n",
    "\n",
    "### **Introduction**\n",
    "\n",
    "In observational studies, treatment is often not randomly assigned, making causal inference difficult.\n",
    "To reduce bias, we use Balanced Risk Set Matching (BRSM), a technique that pairs treated individuals\n",
    "with similar controls.\n",
    "\n",
    "This notebook implements BRSM using Mahalanobis Distance Matching, based on the journal 'Balanced Risk Set Matching'.\n",
    "\n",
    "\n",
    "# **Step 1: Import Necessary Libraries**"
   ]
  },
  {
   "cell_type": "code",
   "execution_count": 18,
   "metadata": {},
   "outputs": [],
   "source": [
    "import numpy as np\n",
    "import pandas as pd\n",
    "from scipy.spatial.distance import mahalanobis\n",
    "from scipy.optimize import linear_sum_assignment\n",
    "from scipy.stats import wilcoxon"
   ]
  },
  {
   "cell_type": "markdown",
   "metadata": {},
   "source": [
    "# **Step 2: Define the Balanced Risk Set Matching Class**"
   ]
  },
  {
   "cell_type": "code",
   "execution_count": 19,
   "metadata": {},
   "outputs": [],
   "source": [
    "class BalancedRiskSetMatching:\n",
    "    def __init__(self, data, treatment_col, time_col, covariates):\n",
    "        \"\"\"Initialize with dataset, treatment indicator, time column, and covariates.\"\"\"\n",
    "        self.data = data.copy()\n",
    "        self.treatment_col = treatment_col\n",
    "        self.time_col = time_col\n",
    "        self.covariates = covariates\n",
    "\n",
    "    def compute_mahalanobis_matrix(self, treated, controls):\n",
    "        \"\"\"Compute Mahalanobis distances between treated and control patients.\"\"\"\n",
    "        try:\n",
    "            cov_matrix = np.cov(self.data[self.covariates].dropna().T)\n",
    "            cov_matrix += np.eye(cov_matrix.shape[0]) * 1e-6\n",
    "            inv_cov = np.linalg.inv(cov_matrix)\n",
    "        except np.linalg.LinAlgError:\n",
    "            raise ValueError(\"Covariance matrix is singular. Check for collinear features or insufficient data.\")\n",
    "        \n",
    "        dist_matrix = np.zeros((len(treated), len(controls)))\n",
    "        for i, t in enumerate(treated[self.covariates].values):\n",
    "            for j, c in enumerate(controls[self.covariates].values):\n",
    "                dist_matrix[i, j] = mahalanobis(t, c, inv_cov)\n",
    "        \n",
    "        return dist_matrix\n",
    "    \n",
    "    def match_pairs(self):\n",
    "        \"\"\"Perform optimal risk set matching using Mahalanobis distance.\"\"\"\n",
    "        treated = self.data[self.data[self.treatment_col] == 1]\n",
    "        controls = self.data[self.data[self.treatment_col] == 0]\n",
    "        \n",
    "        if treated.empty or controls.empty:\n",
    "            raise ValueError(\"Insufficient treated or control subjects for matching.\")\n",
    "        \n",
    "        dist_matrix = self.compute_mahalanobis_matrix(treated, controls)\n",
    "        row_ind, col_ind = linear_sum_assignment(dist_matrix)\n",
    "        \n",
    "        matched_pairs = pd.DataFrame({\n",
    "            'treated_id': treated.iloc[row_ind].index,\n",
    "            'control_id': controls.iloc[col_ind].index,\n",
    "            'distance': dist_matrix[row_ind, col_ind]\n",
    "        })\n",
    "        \n",
    "        return matched_pairs\n",
    "    \n",
    "    def perform_wilcoxon_test(self, outcome_col):\n",
    "        \"\"\"Conduct Wilcoxon signed-rank test on matched pairs.\"\"\"\n",
    "        matched_pairs = self.match_pairs()\n",
    "        treated_outcomes = self.data.loc[matched_pairs['treated_id'], outcome_col].values\n",
    "        control_outcomes = self.data.loc[matched_pairs['control_id'], outcome_col].values\n",
    "        \n",
    "        if len(treated_outcomes) < 10:\n",
    "            raise ValueError(\"Not enough matched pairs for Wilcoxon test. Consider increasing sample size.\")\n",
    "        \n",
    "        stat, p_value = wilcoxon(treated_outcomes, control_outcomes)\n",
    "        return stat, p_value\n"
   ]
  },
  {
   "cell_type": "markdown",
   "metadata": {},
   "source": [
    "# **Step 3: Load Dataset** \n",
    "\n",
    "We begin by loading the dataset containing 50 observations.\n",
    "Each row represents a patient with covariates such as pain, urgency, and frequency."
   ]
  },
  {
   "cell_type": "code",
   "execution_count": 20,
   "metadata": {},
   "outputs": [],
   "source": [
    "df = pd.read_csv(\"data.csv\")"
   ]
  },
  {
   "cell_type": "markdown",
   "metadata": {},
   "source": [
    "We ensure the data set exists in the same directory"
   ]
  },
  {
   "cell_type": "code",
   "execution_count": 21,
   "metadata": {},
   "outputs": [
    {
     "name": "stdout",
     "output_type": "stream",
     "text": [
      "['.git', '.gitattributes', 'A1_test.ipynb', 'data.csv']\n"
     ]
    }
   ],
   "source": [
    "import os\n",
    "print(os.listdir())"
   ]
  },
  {
   "cell_type": "markdown",
   "metadata": {},
   "source": [
    "# **Step 4: Initialize the Matching Class**\n",
    "\n",
    "We now initialize the BalancedRiskSetMatching class with our dataset,\n",
    "setting 'treated' as the treatment column and 'pain', 'urgency', and 'frequency' as covariates.\n"
   ]
  },
  {
   "cell_type": "code",
   "execution_count": 22,
   "metadata": {},
   "outputs": [],
   "source": [
    "brsm = BalancedRiskSetMatching(df, treatment_col='treated', time_col='time', covariates=['pain', 'urgency', 'frequency'])"
   ]
  },
  {
   "cell_type": "markdown",
   "metadata": {},
   "source": [
    "# **Step 5: Perform Matching**\n",
    "\n",
    "We apply the matching process to find optimal treated-control pairs using Mahalanobis distance.\n"
   ]
  },
  {
   "cell_type": "code",
   "execution_count": 23,
   "metadata": {},
   "outputs": [
    {
     "name": "stdout",
     "output_type": "stream",
     "text": [
      "Matched Pairs:\n",
      "     treated_id  control_id  distance\n",
      "0            0          27  0.000000\n",
      "1            1          25  0.000000\n",
      "2            2          42  2.545835\n",
      "3            3          26  0.000000\n",
      "4            4          37  3.037686\n",
      "5            5          30  0.848612\n",
      "6            6          31  0.848612\n",
      "7            7          45  0.848612\n",
      "8            8          36  0.000000\n",
      "9            9          38  0.000000\n",
      "10          10          35  0.848612\n",
      "11          11          40  2.545835\n",
      "12          12          28  0.000000\n",
      "13          13          49  2.545835\n",
      "14          14          47  0.000000\n",
      "15          15          33  0.000000\n",
      "16          16          44  0.000000\n",
      "17          17          29  0.000000\n",
      "18          18          41  0.000000\n",
      "19          19          43  2.545835\n",
      "20          20          32  0.848612\n",
      "21          21          46  0.848612\n",
      "22          22          39  1.697224\n",
      "23          23          48  0.848612\n",
      "24          24          34  0.000000\n"
     ]
    }
   ],
   "source": [
    "matched_pairs = brsm.match_pairs()\n",
    "print(\"Matched Pairs:\\n\", matched_pairs)"
   ]
  },
  {
   "cell_type": "markdown",
   "metadata": {},
   "source": [
    "# **Step 6: Perform Wilcoxon Signed-Rank Test**\n",
    "\n",
    "To check if there is a significant difference in nocturnal frequency between the treated and control groups,\n",
    "we perform the Wilcoxon Signed-Rank Test.\n"
   ]
  },
  {
   "cell_type": "code",
   "execution_count": 24,
   "metadata": {},
   "outputs": [
    {
     "name": "stdout",
     "output_type": "stream",
     "text": [
      "Wilcoxon Test Statistic: 13.0, p-value: 0.001718038567391757\n"
     ]
    }
   ],
   "source": [
    "stat, p_value = brsm.perform_wilcoxon_test('nocturnal_frequency')\n",
    "print(f\"Wilcoxon Test Statistic: {stat}, p-value: {p_value}\")   "
   ]
  },
  {
   "cell_type": "markdown",
   "metadata": {},
   "source": [
    "# **Step 7: Conclusion & Insights**\n",
    "\n",
    "Results from the Wilcoxon test help determine whether treatment significantly impacts nocturnal frequency.\n",
    "Interpretation:\n",
    "- If p < 0.05, there is a significant difference between the groups.\n",
    "- If p > 0.05, the effect of treatment is not statistically significant.\n",
    "\n"
   ]
  }
 ],
 "metadata": {
  "kernelspec": {
   "display_name": "Python 3",
   "language": "python",
   "name": "python3"
  },
  "language_info": {
   "codemirror_mode": {
    "name": "ipython",
    "version": 3
   },
   "file_extension": ".py",
   "mimetype": "text/x-python",
   "name": "python",
   "nbconvert_exporter": "python",
   "pygments_lexer": "ipython3",
   "version": "3.12.3"
  }
 },
 "nbformat": 4,
 "nbformat_minor": 2
}
