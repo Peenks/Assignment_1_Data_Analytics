{
 "cells": [
  {
   "cell_type": "markdown",
   "metadata": {},
   "source": [
    "### **Balanced Risk Set Matching in Observational Studies**\n",
    "---\n",
    "**Authors:**  \n",
    "📌 *Justin Chris Catingub*  \n",
    "📌 *Juliana Marie Ochea*  \n",
    "---\n",
    "    \n",
    "## **Data Analytics Assignment**\n",
    "\n",
    "##  **Introduction**\n",
    "> In observational studies, treatment is often **not randomly assigned**, making causal inference difficult.  \n",
    "> To reduce bias, we use **Balanced Risk Set Matching (BRSM)**, a technique that **pairs treated individuals with similar controls**.\n",
    "\n",
    "###  **Why Balanced Risk Set Matching?**\n",
    "✔ **Accounts for time-dependent treatment assignment**  \n",
    "✔ **Ensures similarity in baseline covariates**  \n",
    "✔ **Reduces selection bias in observational studies**  \n",
    "\n",
    "\n",
    "# **Step 1: Import Necessary Libraries**"
   ]
  },
  {
   "cell_type": "code",
   "execution_count": 5,
   "metadata": {},
   "outputs": [],
   "source": [
    "import numpy as np\n",
    "import pandas as pd\n",
    "from scipy.spatial.distance import mahalanobis\n",
    "from scipy.optimize import linear_sum_assignment\n",
    "from scipy.stats import wilcoxon"
   ]
  },
  {
   "cell_type": "markdown",
   "metadata": {},
   "source": [
    "# **Step 2: Define the Balanced Risk Set Matching Class**"
   ]
  },
  {
   "cell_type": "code",
   "execution_count": 6,
   "metadata": {},
   "outputs": [],
   "source": [
    "class BalancedRiskSetMatching:\n",
    "    def __init__(self, data, treatment_col, time_col, covariates):\n",
    "        \"\"\"Initialize with dataset, treatment indicator, time column, and covariates.\"\"\"\n",
    "        self.data = data.copy()\n",
    "        self.treatment_col = treatment_col\n",
    "        self.time_col = time_col\n",
    "        self.covariates = covariates\n",
    "\n",
    "    def compute_mahalanobis_matrix(self, treated, controls):\n",
    "        \"\"\"Compute Mahalanobis distances between treated and control patients.\"\"\"\n",
    "        try:\n",
    "            cov_matrix = np.cov(self.data[self.covariates].dropna().T)\n",
    "            cov_matrix += np.eye(cov_matrix.shape[0]) * 1e-6\n",
    "            inv_cov = np.linalg.inv(cov_matrix)\n",
    "        except np.linalg.LinAlgError:\n",
    "            raise ValueError(\"Covariance matrix is singular. Check for collinear features or insufficient data.\")\n",
    "        \n",
    "        dist_matrix = np.zeros((len(treated), len(controls)))\n",
    "        for i, t in enumerate(treated[self.covariates].values):\n",
    "            for j, c in enumerate(controls[self.covariates].values):\n",
    "                dist_matrix[i, j] = mahalanobis(t, c, inv_cov)\n",
    "        \n",
    "        return dist_matrix\n",
    "    \n",
    "    def match_pairs(self):\n",
    "        \"\"\"Perform optimal risk set matching using Mahalanobis distance.\"\"\"\n",
    "        treated = self.data[self.data[self.treatment_col] == 1]\n",
    "        controls = self.data[self.data[self.treatment_col] == 0]\n",
    "        \n",
    "        if treated.empty or controls.empty:\n",
    "            raise ValueError(\"Insufficient treated or control subjects for matching.\")\n",
    "        \n",
    "        dist_matrix = self.compute_mahalanobis_matrix(treated, controls)\n",
    "        row_ind, col_ind = linear_sum_assignment(dist_matrix)\n",
    "        \n",
    "        matched_pairs = pd.DataFrame({\n",
    "            'treated_id': treated.iloc[row_ind].index,\n",
    "            'control_id': controls.iloc[col_ind].index,\n",
    "            'distance': dist_matrix[row_ind, col_ind]\n",
    "        })\n",
    "        \n",
    "        return matched_pairs\n",
    "    \n",
    "    def perform_wilcoxon_test(self, outcome_col):\n",
    "        \"\"\"Conduct Wilcoxon signed-rank test on matched pairs.\"\"\"\n",
    "        matched_pairs = self.match_pairs()\n",
    "        treated_outcomes = self.data.loc[matched_pairs['treated_id'], outcome_col].values\n",
    "        control_outcomes = self.data.loc[matched_pairs['control_id'], outcome_col].values\n",
    "        \n",
    "        if len(treated_outcomes) < 10:\n",
    "            raise ValueError(\"Not enough matched pairs for Wilcoxon test. Consider increasing sample size.\")\n",
    "        \n",
    "        stat, p_value = wilcoxon(treated_outcomes, control_outcomes)\n",
    "        return stat, p_value\n"
   ]
  },
  {
   "cell_type": "markdown",
   "metadata": {},
   "source": [
    "# **Step 3: Load Dataset** \n",
    "\n",
    "We begin by loading the dataset containing 50 observations.\n",
    "Each row represents a patient with covariates such as pain, urgency, and frequency."
   ]
  },
  {
   "cell_type": "code",
   "execution_count": 7,
   "metadata": {},
   "outputs": [],
   "source": [
    "df = pd.read_csv(\"data.csv\")"
   ]
  },
  {
   "cell_type": "markdown",
   "metadata": {},
   "source": [
    "We ensure the data set exists in the same directory"
   ]
  },
  {
   "cell_type": "code",
   "execution_count": 8,
   "metadata": {},
   "outputs": [
    {
     "name": "stdout",
     "output_type": "stream",
     "text": [
      "['.git', '.gitattributes', 'A1_Data_Analytics.ipynb', 'data.csv']\n"
     ]
    }
   ],
   "source": [
    "import os\n",
    "print(os.listdir())"
   ]
  },
  {
   "cell_type": "markdown",
   "metadata": {},
   "source": [
    "# **Step 4: Initialize the Matching Class**\n",
    "\n",
    "We now initialize the BalancedRiskSetMatching class with our dataset,\n",
    "setting 'treated' as the treatment column and 'pain', 'urgency', and 'frequency' as covariates.\n"
   ]
  },
  {
   "cell_type": "code",
   "execution_count": 9,
   "metadata": {},
   "outputs": [],
   "source": [
    "brsm = BalancedRiskSetMatching(df, treatment_col='treated', time_col='time', covariates=['pain', 'urgency', 'frequency'])"
   ]
  },
  {
   "cell_type": "markdown",
   "metadata": {},
   "source": [
    "# **Step 5: Perform Matching**\n",
    "\n",
    "We apply the matching process to find optimal treated-control pairs using Mahalanobis distance.\n"
   ]
  },
  {
   "cell_type": "code",
   "execution_count": 15,
   "metadata": {},
   "outputs": [
    {
     "data": {
      "text/html": [
       "<div>\n",
       "<style scoped>\n",
       "    .dataframe tbody tr th:only-of-type {\n",
       "        vertical-align: middle;\n",
       "    }\n",
       "\n",
       "    .dataframe tbody tr th {\n",
       "        vertical-align: top;\n",
       "    }\n",
       "\n",
       "    .dataframe thead th {\n",
       "        text-align: right;\n",
       "    }\n",
       "</style>\n",
       "<table border=\"1\" class=\"dataframe\">\n",
       "  <thead>\n",
       "    <tr style=\"text-align: right;\">\n",
       "      <th></th>\n",
       "      <th>treated_id</th>\n",
       "      <th>control_id</th>\n",
       "      <th>distance</th>\n",
       "    </tr>\n",
       "  </thead>\n",
       "  <tbody>\n",
       "    <tr>\n",
       "      <th>0</th>\n",
       "      <td>0</td>\n",
       "      <td>27</td>\n",
       "      <td>0.000000</td>\n",
       "    </tr>\n",
       "    <tr>\n",
       "      <th>1</th>\n",
       "      <td>1</td>\n",
       "      <td>25</td>\n",
       "      <td>0.000000</td>\n",
       "    </tr>\n",
       "    <tr>\n",
       "      <th>2</th>\n",
       "      <td>2</td>\n",
       "      <td>42</td>\n",
       "      <td>2.545835</td>\n",
       "    </tr>\n",
       "    <tr>\n",
       "      <th>3</th>\n",
       "      <td>3</td>\n",
       "      <td>26</td>\n",
       "      <td>0.000000</td>\n",
       "    </tr>\n",
       "    <tr>\n",
       "      <th>4</th>\n",
       "      <td>4</td>\n",
       "      <td>37</td>\n",
       "      <td>3.037686</td>\n",
       "    </tr>\n",
       "    <tr>\n",
       "      <th>5</th>\n",
       "      <td>5</td>\n",
       "      <td>30</td>\n",
       "      <td>0.848612</td>\n",
       "    </tr>\n",
       "    <tr>\n",
       "      <th>6</th>\n",
       "      <td>6</td>\n",
       "      <td>31</td>\n",
       "      <td>0.848612</td>\n",
       "    </tr>\n",
       "    <tr>\n",
       "      <th>7</th>\n",
       "      <td>7</td>\n",
       "      <td>45</td>\n",
       "      <td>0.848612</td>\n",
       "    </tr>\n",
       "    <tr>\n",
       "      <th>8</th>\n",
       "      <td>8</td>\n",
       "      <td>36</td>\n",
       "      <td>0.000000</td>\n",
       "    </tr>\n",
       "    <tr>\n",
       "      <th>9</th>\n",
       "      <td>9</td>\n",
       "      <td>38</td>\n",
       "      <td>0.000000</td>\n",
       "    </tr>\n",
       "    <tr>\n",
       "      <th>10</th>\n",
       "      <td>10</td>\n",
       "      <td>35</td>\n",
       "      <td>0.848612</td>\n",
       "    </tr>\n",
       "    <tr>\n",
       "      <th>11</th>\n",
       "      <td>11</td>\n",
       "      <td>40</td>\n",
       "      <td>2.545835</td>\n",
       "    </tr>\n",
       "    <tr>\n",
       "      <th>12</th>\n",
       "      <td>12</td>\n",
       "      <td>28</td>\n",
       "      <td>0.000000</td>\n",
       "    </tr>\n",
       "    <tr>\n",
       "      <th>13</th>\n",
       "      <td>13</td>\n",
       "      <td>49</td>\n",
       "      <td>2.545835</td>\n",
       "    </tr>\n",
       "    <tr>\n",
       "      <th>14</th>\n",
       "      <td>14</td>\n",
       "      <td>47</td>\n",
       "      <td>0.000000</td>\n",
       "    </tr>\n",
       "    <tr>\n",
       "      <th>15</th>\n",
       "      <td>15</td>\n",
       "      <td>33</td>\n",
       "      <td>0.000000</td>\n",
       "    </tr>\n",
       "    <tr>\n",
       "      <th>16</th>\n",
       "      <td>16</td>\n",
       "      <td>44</td>\n",
       "      <td>0.000000</td>\n",
       "    </tr>\n",
       "    <tr>\n",
       "      <th>17</th>\n",
       "      <td>17</td>\n",
       "      <td>29</td>\n",
       "      <td>0.000000</td>\n",
       "    </tr>\n",
       "    <tr>\n",
       "      <th>18</th>\n",
       "      <td>18</td>\n",
       "      <td>41</td>\n",
       "      <td>0.000000</td>\n",
       "    </tr>\n",
       "    <tr>\n",
       "      <th>19</th>\n",
       "      <td>19</td>\n",
       "      <td>43</td>\n",
       "      <td>2.545835</td>\n",
       "    </tr>\n",
       "    <tr>\n",
       "      <th>20</th>\n",
       "      <td>20</td>\n",
       "      <td>32</td>\n",
       "      <td>0.848612</td>\n",
       "    </tr>\n",
       "    <tr>\n",
       "      <th>21</th>\n",
       "      <td>21</td>\n",
       "      <td>46</td>\n",
       "      <td>0.848612</td>\n",
       "    </tr>\n",
       "    <tr>\n",
       "      <th>22</th>\n",
       "      <td>22</td>\n",
       "      <td>39</td>\n",
       "      <td>1.697224</td>\n",
       "    </tr>\n",
       "    <tr>\n",
       "      <th>23</th>\n",
       "      <td>23</td>\n",
       "      <td>48</td>\n",
       "      <td>0.848612</td>\n",
       "    </tr>\n",
       "    <tr>\n",
       "      <th>24</th>\n",
       "      <td>24</td>\n",
       "      <td>34</td>\n",
       "      <td>0.000000</td>\n",
       "    </tr>\n",
       "  </tbody>\n",
       "</table>\n",
       "</div>"
      ],
      "text/plain": [
       "    treated_id  control_id  distance\n",
       "0            0          27  0.000000\n",
       "1            1          25  0.000000\n",
       "2            2          42  2.545835\n",
       "3            3          26  0.000000\n",
       "4            4          37  3.037686\n",
       "5            5          30  0.848612\n",
       "6            6          31  0.848612\n",
       "7            7          45  0.848612\n",
       "8            8          36  0.000000\n",
       "9            9          38  0.000000\n",
       "10          10          35  0.848612\n",
       "11          11          40  2.545835\n",
       "12          12          28  0.000000\n",
       "13          13          49  2.545835\n",
       "14          14          47  0.000000\n",
       "15          15          33  0.000000\n",
       "16          16          44  0.000000\n",
       "17          17          29  0.000000\n",
       "18          18          41  0.000000\n",
       "19          19          43  2.545835\n",
       "20          20          32  0.848612\n",
       "21          21          46  0.848612\n",
       "22          22          39  1.697224\n",
       "23          23          48  0.848612\n",
       "24          24          34  0.000000"
      ]
     },
     "metadata": {},
     "output_type": "display_data"
    }
   ],
   "source": [
    "matched_pairs = brsm.match_pairs()\n",
    "import IPython.display as ipd\n",
    "ipd.display(matched_pairs)\n"
   ]
  },
  {
   "cell_type": "markdown",
   "metadata": {},
   "source": [
    "# **Step 6: Perform Wilcoxon Signed-Rank Test**\n",
    "\n",
    "To check if there is a significant difference in nocturnal frequency between the treated and control groups,\n",
    "we perform the Wilcoxon Signed-Rank Test.\n"
   ]
  },
  {
   "cell_type": "code",
   "execution_count": 11,
   "metadata": {},
   "outputs": [
    {
     "name": "stdout",
     "output_type": "stream",
     "text": [
      "Wilcoxon Test Statistic: 13.0, p-value: 0.001718038567391757\n"
     ]
    }
   ],
   "source": [
    "stat, p_value = brsm.perform_wilcoxon_test('nocturnal_frequency')\n",
    "print(f\"Wilcoxon Test Statistic: {stat}, p-value: {p_value}\")   "
   ]
  },
  {
   "cell_type": "code",
   "execution_count": 14,
   "metadata": {},
   "outputs": [
    {
     "data": {
      "image/png": "[encoded data removed]",
      "text/plain": [
       "<Figure size 600x400 with 1 Axes>"
      ]
     },
     "metadata": {},
     "output_type": "display_data"
    }
   ],
   "source": [
    "plt.figure(figsize=(6, 4))\n",
    "plt.bar([\"Treated\", \"Control\"], [np.median(matched_data.loc[matched_pairs[\"treated_id\"], 'nocturnal_frequency']),\n",
    "                                 np.median(matched_data.loc[matched_pairs[\"control_id\"], 'nocturnal_frequency'])],\n",
    "        color=['red', 'blue'])\n",
    "plt.title(\"Median Nocturnal Frequency in Treated vs Control\")\n",
    "plt.ylabel(\"Nocturnal Frequency\")\n",
    "plt.show()\n"
   ]
  },
  {
   "cell_type": "markdown",
   "metadata": {},
   "source": [
    "##  **Final Conclusion**\n",
    "After applying **Balanced Risk Set Matching**, we conducted the **Wilcoxon Signed-Rank Test** to determine whether treatment significantly impacted **nocturnal frequency**.\n",
    "\n",
    "### **Key Results:**\n",
    " **Wilcoxon Test Statistic:** *X.XX*  \n",
    " **p-value:** *0.XX*  \n",
    "\n",
    "### **Interpretation:**\n",
    "- If **p < 0.05**, the treatment **significantly reduces** nocturnal frequency.  \n",
    "- If **p > 0.05**, there is **no strong evidence** that treatment makes a difference.\n",
    "\n",
    "\n"
   ]
  }
 ],
 "metadata": {
  "kernelspec": {
   "display_name": "Python 3",
   "language": "python",
   "name": "python3"
  },
  "language_info": {
   "codemirror_mode": {
    "name": "ipython",
    "version": 3
   },
   "file_extension": ".py",
   "mimetype": "text/x-python",
   "name": "python",
   "nbconvert_exporter": "python",
   "pygments_lexer": "ipython3",
   "version": "3.12.3"
  }
 },
 "nbformat": 4,
 "nbformat_minor": 2
}
