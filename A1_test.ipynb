{
 "cells": [
  {
   "cell_type": "markdown",
   "metadata": {},
   "source": [
    "### **Balanced Risk Set Matching in Observational Studies**\n",
    "---\n",
    "**Authors:**  \n",
    "📌 *Justin Chris Catingub*  \n",
    "📌 *Juliana Marie Ochea*  \n",
    "---\n",
    "    \n",
    "## **Data Analytics Assignment**\n",
    "\n",
    "### **Introduction**\n",
    "\n",
    "In observational studies, treatment is often not randomly assigned, making causal inference difficult.\n",
    "To reduce bias, we use Balanced Risk Set Matching (BRSM), a technique that pairs treated individuals\n",
    "with similar controls.\n",
    "\n",
    "This notebook implements BRSM using Mahalanobis Distance Matching, based on the journal 'Balanced Risk Set Matching'.\n",
    "\n",
    "\n",
    "# **Step 1: Import Necessary Libraries**"
   ]
  }
 ],
 "metadata": {
  "kernelspec": {
   "display_name": "Python 3",
   "language": "python",
   "name": "python3"
  },
  "language_info": {
   "codemirror_mode": {
    "name": "ipython",
    "version": 3
   },
   "file_extension": ".py",
   "mimetype": "text/x-python",
   "name": "python",
   "nbconvert_exporter": "python",
   "pygments_lexer": "ipython3",
   "version": "3.12.3"
  }
 },
 "nbformat": 4,
 "nbformat_minor": 2
}
